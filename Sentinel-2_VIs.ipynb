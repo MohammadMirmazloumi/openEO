{
 "cells": [
  {
   "cell_type": "markdown",
   "id": "f94320d8-c5c6-45a0-a8e4-4903a6918774",
   "metadata": {},
   "source": [
    "# INTEGRATED USE OF MULTISOURCE REMOTE SENSING DATA FOR NATIONAL SCALE AGRICULTURAL  DROUGHT MONITORING IN KENYA\n",
    "# ADM-Kenya Workshop, Kenya, May 2024\n",
    "# Sentinel-2 Spectral/Vegetation Indexes Export - High-Resolution Evaportranspiration Estimation"
   ]
  },
  {
   "cell_type": "markdown",
   "id": "dcb48323-c1c2-44e5-81e7-afc80b645fb4",
   "metadata": {},
   "source": [
    "Here, we want to load Sentinel-2 data collection. Cloud masking, generating VIs, and getting data over cropland pixels are like steps of crop condition mapping. Note that here we want to have daily products."
   ]
  },
  {
   "cell_type": "markdown",
   "id": "4a711279-aed2-4b71-be99-e9d7d6d73ee6",
   "metadata": {},
   "source": [
    "# Tools and Libraries\n",
    "\n",
    "We will use the following libraries:\n",
    "\n",
    "    openEO: A library to initiate using of openEO facility, including various dependencies for processing data collections.\n",
    "    NumPy: A fundamental package for scientific computing in Python."
   ]
  },
  {
   "cell_type": "code",
   "execution_count": 10,
   "id": "d0852ee0-af95-4480-95ff-1b12f7907c9d",
   "metadata": {},
   "outputs": [],
   "source": [
    "import openeo\n",
    "import openeo.extra.spectral_indices as opc \n",
    "import numpy as np\n",
    "import openeo.processes as eop"
   ]
  },
  {
   "cell_type": "code",
   "execution_count": 11,
   "id": "40075b3a-e6f4-47cc-9922-f9d1a146b1d7",
   "metadata": {},
   "outputs": [
    {
     "name": "stdout",
     "output_type": "stream",
     "text": [
      "Authenticated using refresh token.\n"
     ]
    }
   ],
   "source": [
    "connection = openeo.connect(\"openeo.dataspace.copernicus.eu\").authenticate_oidc()"
   ]
  },
  {
   "cell_type": "markdown",
   "id": "110c5b51-3693-4b09-87c1-5339f745f434",
   "metadata": {},
   "source": [
    "<img src=\"S2_Fig_1.PNG\">"
   ]
  },
  {
   "cell_type": "code",
   "execution_count": 3,
   "id": "cd9c6714-e0d1-46bc-966f-bbb0dca48d29",
   "metadata": {},
   "outputs": [],
   "source": [
    "S2_2021_cloudfree = connection.load_collection(\n",
    "  \"SENTINEL2_L2A\",\n",
    "  spatial_extent={\"west\": 34.382, \"south\": 0.758, \"east\": 34.447, \"north\": 0.769},\n",
    "  temporal_extent=[\"2021-04-01\", \"2021-04-30\"],\n",
    "  bands=[\"B02\",\"B03\",\"B04\",\"B05\",\"B06\",\"B08\",\"B11\",\"B12\",\"SCL\"],\n",
    "  max_cloud_cover=30\n",
    ")"
   ]
  },
  {
   "cell_type": "code",
   "execution_count": 4,
   "id": "7dbe0bff-3a3f-4426-b7fa-7a4de869e43a",
   "metadata": {},
   "outputs": [],
   "source": [
    "scl_band_2021 = S2_2021_cloudfree.band(\"SCL\")\n",
    "cloud_mask_2021 = (scl_band_2021 == 3) | (scl_band_2021 == 8) | (scl_band_2021 == 9)"
   ]
  },
  {
   "cell_type": "code",
   "execution_count": 5,
   "id": "fa8a9549-64e8-4d88-8c91-cc2d046a30d1",
   "metadata": {},
   "outputs": [],
   "source": [
    "cloud_mask_2021 = cloud_mask_2021.resample_cube_spatial(S2_2021_cloudfree)\n",
    "cube_masked_2021 = S2_2021_cloudfree.mask(cloud_mask_2021)"
   ]
  },
  {
   "cell_type": "code",
   "execution_count": 6,
   "id": "7078b9ff-cc20-4cb7-912d-c157ed049637",
   "metadata": {},
   "outputs": [],
   "source": [
    "# Spectral indexes:\n",
    "idx_list = [\"NDVI\",\"NDMI\",\"GNDVI\",\"NMDI\",\"EVI\"]\n",
    "S2_VIs_2021 = opc.compute_indices(cube_masked_2021, idx_list).filter_bands(idx_list)"
   ]
  },
  {
   "cell_type": "code",
   "execution_count": 7,
   "id": "42d04774-6ea7-4424-9ffc-35d1292b9652",
   "metadata": {},
   "outputs": [],
   "source": [
    "# Croplands masking:\n",
    "cropland_mask = connection.load_collection(\"ESA_WORLDCOVER_10M_2021_V2\", bands=[\"MAP\"],\n",
    "                                temporal_extent = [\"2021-01-01\", \"2022-01-01\"],\n",
    "                                spatial_extent={\"west\": 34.282, \"south\": 0.658, \"east\": 34.447, \"north\": 0.769}\n",
    "                    )\n",
    "\n",
    "cropland_mask = cropland_mask.band(\"MAP\") != 40\n",
    "S2_2021_input_crop = S2_VIs_2021.mask(cropland_mask.max_time())"
   ]
  },
  {
   "cell_type": "code",
   "execution_count": 8,
   "id": "80ab5578-7761-4054-96ed-8cd104861e88",
   "metadata": {},
   "outputs": [],
   "source": [
    "job = S2_2021_input_crop.create_job(out_format=\"GTiff\")"
   ]
  },
  {
   "cell_type": "code",
   "execution_count": 9,
   "id": "f49ccacd-4bbf-4209-83b2-269c61a0f801",
   "metadata": {},
   "outputs": [
    {
     "name": "stdout",
     "output_type": "stream",
     "text": [
      "0:00:00 Job 'j-240522232c98436ea2f13f9a5c3ba2a0': send 'start'\n",
      "0:00:32 Job 'j-240522232c98436ea2f13f9a5c3ba2a0': created (progress 0%)\n",
      "0:00:46 Job 'j-240522232c98436ea2f13f9a5c3ba2a0': created (progress 0%)\n",
      "0:01:12 Job 'j-240522232c98436ea2f13f9a5c3ba2a0': running (progress N/A)\n",
      "0:01:39 Job 'j-240522232c98436ea2f13f9a5c3ba2a0': running (progress N/A)\n",
      "0:01:57 Job 'j-240522232c98436ea2f13f9a5c3ba2a0': running (progress N/A)\n",
      "0:02:09 Job 'j-240522232c98436ea2f13f9a5c3ba2a0': running (progress N/A)\n",
      "0:02:25 Job 'j-240522232c98436ea2f13f9a5c3ba2a0': running (progress N/A)\n",
      "0:02:45 Job 'j-240522232c98436ea2f13f9a5c3ba2a0': running (progress N/A)\n",
      "0:03:09 Job 'j-240522232c98436ea2f13f9a5c3ba2a0': running (progress N/A)\n",
      "0:03:39 Job 'j-240522232c98436ea2f13f9a5c3ba2a0': running (progress N/A)\n",
      "0:04:27 Job 'j-240522232c98436ea2f13f9a5c3ba2a0': finished (progress 100%)\n"
     ]
    },
    {
     "data": {
      "text/html": [
       "\n",
       "    <script>\n",
       "    if (!window.customElements || !window.customElements.get('openeo-collection')) {\n",
       "        var el = document.createElement('script');\n",
       "        el.src = \"https://cdn.jsdelivr.net/npm/@openeo/vue-components@2/assets/openeo.min.js\";\n",
       "        document.head.appendChild(el);\n",
       "\n",
       "        var font = document.createElement('font');\n",
       "        font.as = \"font\";\n",
       "        font.type = \"font/woff2\";\n",
       "        font.crossOrigin = true;\n",
       "        font.href = \"https://use.fontawesome.com/releases/v5.13.0/webfonts/fa-solid-900.woff2\"\n",
       "        document.head.appendChild(font);\n",
       "    }\n",
       "    </script>\n",
       "    <openeo-collection>\n",
       "        <script type=\"application/json\">{\"mapOptions\": {}, \"data\": {\"assets\": {\"openEO_2021-04-01Z.tif\": {\"eo:bands\": [{\"name\": \"NDVI\"}, {\"name\": \"NDMI\"}, {\"name\": \"GNDVI\"}, {\"name\": \"NMDI\"}, {\"name\": \"EVI\"}], \"href\": \"https://openeo.dataspace.copernicus.eu/openeo/1.2/jobs/j-240522232c98436ea2f13f9a5c3ba2a0/results/assets/NzVhNWQ3ZjItYjA3My00NjhkLTlkY2MtNDlkNWU2ZDY5MGE1/530f930c3adeb0b11c6f08f7ee62f666/openEO_2021-04-01Z.tif?expires=1716971011\", \"proj:bbox\": [653780.0, 83800.0, 661020.0, 85030.0], \"proj:epsg\": 4038, \"proj:shape\": [123, 724], \"raster:bands\": [{\"name\": \"NDVI\", \"statistics\": {\"maximum\": 0.69634968042374, \"mean\": 0.29227170517035, \"minimum\": -0.055475946515799, \"stddev\": 0.10490171682543, \"valid_percent\": 8.497}}, {\"name\": \"NDMI\", \"statistics\": {\"maximum\": 0.26032176613808, \"mean\": -0.10303670352347, \"minimum\": -0.47751525044441, \"stddev\": 0.086804207985011, \"valid_percent\": 8.497}}, {\"name\": \"GNDVI\", \"statistics\": {\"maximum\": 0.62876254320145, \"mean\": 0.33911638888486, \"minimum\": 0.089173004031181, \"stddev\": 0.095276524629264, \"valid_percent\": 8.497}}, {\"name\": \"NMDI\", \"statistics\": {\"maximum\": 0.83685803413391, \"mean\": 0.53603856721028, \"minimum\": 0.25516659021378, \"stddev\": 0.073685724211445, \"valid_percent\": 8.497}}, {\"name\": \"EVI\", \"statistics\": {\"maximum\": 470.45455932617, \"mean\": 0.85855859679032, \"minimum\": -227.5, \"stddev\": 9.1947252257556, \"valid_percent\": 8.496}}], \"roles\": [\"data\"], \"title\": \"openEO_2021-04-01Z.tif\", \"type\": \"image/tiff; application=geotiff\"}, \"openEO_2021-04-06Z.tif\": {\"eo:bands\": [{\"name\": \"NDVI\"}, {\"name\": \"NDMI\"}, {\"name\": \"GNDVI\"}, {\"name\": \"NMDI\"}, {\"name\": \"EVI\"}], \"href\": \"https://openeo.dataspace.copernicus.eu/openeo/1.2/jobs/j-240522232c98436ea2f13f9a5c3ba2a0/results/assets/NzVhNWQ3ZjItYjA3My00NjhkLTlkY2MtNDlkNWU2ZDY5MGE1/95365a5a3143aaeb828a6e4ddca75fd3/openEO_2021-04-06Z.tif?expires=1716971011\", \"proj:bbox\": [653780.0, 83800.0, 661020.0, 85030.0], \"proj:epsg\": 4038, \"proj:shape\": [123, 724], \"raster:bands\": [{\"name\": \"NDVI\", \"statistics\": {\"maximum\": 0.84625852108002, \"mean\": 0.40441104208215, \"minimum\": 0.077120825648308, \"stddev\": 0.1288627730516, \"valid_percent\": 59.92}}, {\"name\": \"NDMI\", \"statistics\": {\"maximum\": 0.28503787517548, \"mean\": -0.11203874305406, \"minimum\": -0.46965700387955, \"stddev\": 0.10997432201937, \"valid_percent\": 59.92}}, {\"name\": \"GNDVI\", \"statistics\": {\"maximum\": 0.73921144008636, \"mean\": 0.47523944151817, \"minimum\": 0.12907634675503, \"stddev\": 0.074775374299502, \"valid_percent\": 59.92}}, {\"name\": \"NMDI\", \"statistics\": {\"maximum\": 0.75263661146164, \"mean\": 0.47027050964004, \"minimum\": 0.12857945263386, \"stddev\": 0.072649279772436, \"valid_percent\": 59.92}}, {\"name\": \"EVI\", \"statistics\": {\"maximum\": 719.58331298828, \"mean\": 0.91203898598046, \"minimum\": -143.375, \"stddev\": 3.2829360463132, \"valid_percent\": 59.92}}], \"roles\": [\"data\"], \"title\": \"openEO_2021-04-06Z.tif\", \"type\": \"image/tiff; application=geotiff\"}, \"openEO_2021-04-11Z.tif\": {\"eo:bands\": [{\"name\": \"NDVI\"}, {\"name\": \"NDMI\"}, {\"name\": \"GNDVI\"}, {\"name\": \"NMDI\"}, {\"name\": \"EVI\"}], \"href\": \"https://openeo.dataspace.copernicus.eu/openeo/1.2/jobs/j-240522232c98436ea2f13f9a5c3ba2a0/results/assets/NzVhNWQ3ZjItYjA3My00NjhkLTlkY2MtNDlkNWU2ZDY5MGE1/37f2b8d8ecb125f0c06b227e6b8345a4/openEO_2021-04-11Z.tif?expires=1716971011\", \"proj:bbox\": [653780.0, 83800.0, 661020.0, 85030.0], \"proj:epsg\": 4038, \"proj:shape\": [123, 724], \"raster:bands\": [{\"name\": \"NDVI\", \"statistics\": {\"maximum\": 0.7988595366478, \"mean\": 0.37859034272756, \"minimum\": 0.028934368863702, \"stddev\": 0.12540358311296, \"valid_percent\": 32.89}}, {\"name\": \"NDMI\", \"statistics\": {\"maximum\": 0.30971369147301, \"mean\": -0.032672017441499, \"minimum\": -0.34723713994026, \"stddev\": 0.091825902235105, \"valid_percent\": 32.89}}, {\"name\": \"GNDVI\", \"statistics\": {\"maximum\": 0.70292818546295, \"mean\": 0.39973816705007, \"minimum\": 0.10852713137865, \"stddev\": 0.10381100992046, \"valid_percent\": 32.89}}, {\"name\": \"NMDI\", \"statistics\": {\"maximum\": 0.77514791488647, \"mean\": 0.5047180124138, \"minimum\": 0.19924953579903, \"stddev\": 0.072171563348135, \"valid_percent\": 32.89}}, {\"name\": \"EVI\", \"statistics\": {\"maximum\": 2907.5, \"mean\": 1.2622422453925, \"minimum\": -3282.5, \"stddev\": 44.479558977642, \"valid_percent\": 32.89}}], \"roles\": [\"data\"], \"title\": \"openEO_2021-04-11Z.tif\", \"type\": \"image/tiff; application=geotiff\"}, \"openEO_2021-04-26Z.tif\": {\"eo:bands\": [{\"name\": \"NDVI\"}, {\"name\": \"NDMI\"}, {\"name\": \"GNDVI\"}, {\"name\": \"NMDI\"}, {\"name\": \"EVI\"}], \"href\": \"https://openeo.dataspace.copernicus.eu/openeo/1.2/jobs/j-240522232c98436ea2f13f9a5c3ba2a0/results/assets/NzVhNWQ3ZjItYjA3My00NjhkLTlkY2MtNDlkNWU2ZDY5MGE1/bc3e3405b8353006b69643100b669cae/openEO_2021-04-26Z.tif?expires=1716971011\", \"proj:bbox\": [653780.0, 83800.0, 661020.0, 85030.0], \"proj:epsg\": 4038, \"proj:shape\": [123, 724], \"raster:bands\": [{\"name\": \"NDVI\", \"statistics\": {\"maximum\": 0.93646824359894, \"mean\": 0.62270955027142, \"minimum\": 0.089527025818825, \"stddev\": 0.14372759391486, \"valid_percent\": 59.91}}, {\"name\": \"NDMI\", \"statistics\": {\"maximum\": 0.46452370285988, \"mean\": 0.092240918665316, \"minimum\": -0.36837455630302, \"stddev\": 0.12453759110868, \"valid_percent\": 59.91}}, {\"name\": \"GNDVI\", \"statistics\": {\"maximum\": 0.83074051141739, \"mean\": 0.59256530138993, \"minimum\": 0.1306332051754, \"stddev\": 0.084522578933994, \"valid_percent\": 59.91}}, {\"name\": \"NMDI\", \"statistics\": {\"maximum\": 0.71404820680618, \"mean\": 0.46788174246272, \"minimum\": 0.03127171471715, \"stddev\": 0.080051474445293, \"valid_percent\": 59.91}}, {\"name\": \"EVI\", \"statistics\": {\"maximum\": 40.373134613037, \"mean\": 1.6005686554022, \"minimum\": -320.2272644043, \"stddev\": 1.6107510828335, \"valid_percent\": 59.91}}], \"roles\": [\"data\"], \"title\": \"openEO_2021-04-26Z.tif\", \"type\": \"image/tiff; application=geotiff\"}}, \"description\": \"Results for batch job j-240522232c98436ea2f13f9a5c3ba2a0\", \"extent\": {\"spatial\": {\"bbox\": [[34.282, 0.658, 34.447, 0.769]]}, \"temporal\": {\"interval\": [[\"2021-01-01T00:00:00Z\", \"2022-01-01T00:00:00Z\"]]}}, \"id\": \"j-240522232c98436ea2f13f9a5c3ba2a0\", \"license\": \"proprietary\", \"links\": [{\"href\": \"ESA_WORLDCOVER_v200_N00E033\", \"rel\": \"derived_from\", \"title\": \"Derived from ESA_WORLDCOVER_v200_N00E033\", \"type\": \"application/json\"}, {\"href\": \"/eodata/Sentinel-2/MSI/L2A_N0500/2021/04/26/S2B_MSIL2A_20210426T074609_N0500_R135_T36NXF_20230517T111420.SAFE\", \"rel\": \"derived_from\", \"title\": \"Derived from /eodata/Sentinel-2/MSI/L2A_N0500/2021/04/26/S2B_MSIL2A_20210426T074609_N0500_R135_T36NXF_20230517T111420.SAFE\", \"type\": \"application/json\"}, {\"href\": \"/eodata/Sentinel-2/MSI/L2A_N0500/2021/04/11/S2A_MSIL2A_20210411T074611_N0500_R135_T36NXF_20230523T095022.SAFE\", \"rel\": \"derived_from\", \"title\": \"Derived from /eodata/Sentinel-2/MSI/L2A_N0500/2021/04/11/S2A_MSIL2A_20210411T074611_N0500_R135_T36NXF_20230523T095022.SAFE\", \"type\": \"application/json\"}, {\"href\": \"/eodata/Sentinel-2/MSI/L2A_N0500/2021/04/01/S2A_MSIL2A_20210401T074611_N0500_R135_T36NXF_20230523T041712.SAFE\", \"rel\": \"derived_from\", \"title\": \"Derived from /eodata/Sentinel-2/MSI/L2A_N0500/2021/04/01/S2A_MSIL2A_20210401T074611_N0500_R135_T36NXF_20230523T041712.SAFE\", \"type\": \"application/json\"}, {\"href\": \"/eodata/Sentinel-2/MSI/L2A_N0500/2021/04/06/S2B_MSIL2A_20210406T074609_N0500_R135_T36NXF_20230513T035812.SAFE\", \"rel\": \"derived_from\", \"title\": \"Derived from /eodata/Sentinel-2/MSI/L2A_N0500/2021/04/06/S2B_MSIL2A_20210406T074609_N0500_R135_T36NXF_20230513T035812.SAFE\", \"type\": \"application/json\"}, {\"href\": \"/eodata/Sentinel-2/MSI/L2A_N0500/2021/04/26/S2B_MSIL2A_20210426T074609_N0500_R135_T36NXF_20230517T111420.SAFE\", \"rel\": \"derived_from\", \"title\": \"Derived from /eodata/Sentinel-2/MSI/L2A_N0500/2021/04/26/S2B_MSIL2A_20210426T074609_N0500_R135_T36NXF_20230517T111420.SAFE\", \"type\": \"application/json\"}, {\"href\": \"/eodata/Sentinel-2/MSI/L2A_N0500/2021/04/06/S2B_MSIL2A_20210406T074609_N0500_R135_T36NXF_20230513T035812.SAFE\", \"rel\": \"derived_from\", \"title\": \"Derived from /eodata/Sentinel-2/MSI/L2A_N0500/2021/04/06/S2B_MSIL2A_20210406T074609_N0500_R135_T36NXF_20230513T035812.SAFE\", \"type\": \"application/json\"}, {\"href\": \"/eodata/Sentinel-2/MSI/L2A_N0500/2021/04/01/S2A_MSIL2A_20210401T074611_N0500_R135_T36NXF_20230523T041712.SAFE\", \"rel\": \"derived_from\", \"title\": \"Derived from /eodata/Sentinel-2/MSI/L2A_N0500/2021/04/01/S2A_MSIL2A_20210401T074611_N0500_R135_T36NXF_20230523T041712.SAFE\", \"type\": \"application/json\"}, {\"href\": \"/eodata/Sentinel-2/MSI/L2A_N0500/2021/04/11/S2A_MSIL2A_20210411T074611_N0500_R135_T36NXF_20230523T095022.SAFE\", \"rel\": \"derived_from\", \"title\": \"Derived from /eodata/Sentinel-2/MSI/L2A_N0500/2021/04/11/S2A_MSIL2A_20210411T074611_N0500_R135_T36NXF_20230523T095022.SAFE\", \"type\": \"application/json\"}, {\"href\": \"https://openeo.dataspace.copernicus.eu/openeo/1.2/jobs/j-240522232c98436ea2f13f9a5c3ba2a0/results\", \"rel\": \"self\", \"type\": \"application/json\"}, {\"href\": \"https://openeo.dataspace.copernicus.eu/openeo/1.2/jobs/j-240522232c98436ea2f13f9a5c3ba2a0/results/NzVhNWQ3ZjItYjA3My00NjhkLTlkY2MtNDlkNWU2ZDY5MGE1/ac7a63b6e9cc006ab26a02a3fd291111?expires=1716971011\", \"rel\": \"canonical\", \"type\": \"application/json\"}, {\"href\": \"http://ceos.org/ard/files/PFS/SR/v5.0/CARD4L_Product_Family_Specification_Surface_Reflectance-v5.0.pdf\", \"rel\": \"card4l-document\", \"type\": \"application/pdf\"}, {\"href\": \"https://openeo.dataspace.copernicus.eu/openeo/1.2/jobs/j-240522232c98436ea2f13f9a5c3ba2a0/results/items/NzVhNWQ3ZjItYjA3My00NjhkLTlkY2MtNDlkNWU2ZDY5MGE1/530f930c3adeb0b11c6f08f7ee62f666/openEO_2021-04-01Z.tif?expires=1716971011\", \"rel\": \"item\", \"type\": \"application/geo+json\"}, {\"href\": \"https://openeo.dataspace.copernicus.eu/openeo/1.2/jobs/j-240522232c98436ea2f13f9a5c3ba2a0/results/items/NzVhNWQ3ZjItYjA3My00NjhkLTlkY2MtNDlkNWU2ZDY5MGE1/95365a5a3143aaeb828a6e4ddca75fd3/openEO_2021-04-06Z.tif?expires=1716971011\", \"rel\": \"item\", \"type\": \"application/geo+json\"}, {\"href\": \"https://openeo.dataspace.copernicus.eu/openeo/1.2/jobs/j-240522232c98436ea2f13f9a5c3ba2a0/results/items/NzVhNWQ3ZjItYjA3My00NjhkLTlkY2MtNDlkNWU2ZDY5MGE1/37f2b8d8ecb125f0c06b227e6b8345a4/openEO_2021-04-11Z.tif?expires=1716971011\", \"rel\": \"item\", \"type\": \"application/geo+json\"}, {\"href\": \"https://openeo.dataspace.copernicus.eu/openeo/1.2/jobs/j-240522232c98436ea2f13f9a5c3ba2a0/results/items/NzVhNWQ3ZjItYjA3My00NjhkLTlkY2MtNDlkNWU2ZDY5MGE1/bc3e3405b8353006b69643100b669cae/openEO_2021-04-26Z.tif?expires=1716971011\", \"rel\": \"item\", \"type\": \"application/geo+json\"}], \"openeo:status\": \"finished\", \"providers\": [{\"description\": \"This data was processed on an openEO backend maintained by VITO.\", \"name\": \"VITO\", \"processing:expression\": {\"expression\": {\"applydimension1\": {\"arguments\": {\"data\": {\"from_node\": \"mask1\"}, \"dimension\": \"bands\", \"process\": {\"process_graph\": {\"add1\": {\"arguments\": {\"x\": {\"from_node\": \"arrayelement2\"}, \"y\": {\"from_node\": \"arrayelement3\"}}, \"process_id\": \"add\"}, \"add2\": {\"arguments\": {\"x\": {\"from_node\": \"arrayelement2\"}, \"y\": {\"from_node\": \"arrayelement4\"}}, \"process_id\": \"add\"}, \"add3\": {\"arguments\": {\"x\": {\"from_node\": \"arrayelement2\"}, \"y\": {\"from_node\": \"arrayelement5\"}}, \"process_id\": \"add\"}, \"add4\": {\"arguments\": {\"x\": {\"from_node\": \"arrayelement2\"}, \"y\": {\"from_node\": \"subtract6\"}}, \"process_id\": \"add\"}, \"add5\": {\"arguments\": {\"x\": {\"from_node\": \"arrayelement2\"}, \"y\": {\"from_node\": \"multiply2\"}}, \"process_id\": \"add\"}, \"add6\": {\"arguments\": {\"x\": {\"from_node\": \"subtract8\"}, \"y\": 1.0}, \"process_id\": \"add\"}, \"arraycreate1\": {\"arguments\": {\"data\": [{\"from_node\": \"divide1\"}, {\"from_node\": \"divide2\"}, {\"from_node\": \"divide3\"}, {\"from_node\": \"divide4\"}, {\"from_node\": \"divide5\"}]}, \"process_id\": \"array_create\", \"result\": true}, \"arrayelement2\": {\"arguments\": {\"data\": {\"from_parameter\": \"data\"}, \"index\": 5}, \"process_id\": \"array_element\"}, \"arrayelement3\": {\"arguments\": {\"data\": {\"from_parameter\": \"data\"}, \"index\": 2}, \"process_id\": \"array_element\"}, \"arrayelement4\": {\"arguments\": {\"data\": {\"from_parameter\": \"data\"}, \"index\": 6}, \"process_id\": \"array_element\"}, \"arrayelement5\": {\"arguments\": {\"data\": {\"from_parameter\": \"data\"}, \"index\": 1}, \"process_id\": \"array_element\"}, \"arrayelement6\": {\"arguments\": {\"data\": {\"from_parameter\": \"data\"}, \"index\": 7}, \"process_id\": \"array_element\"}, \"arrayelement7\": {\"arguments\": {\"data\": {\"from_parameter\": \"data\"}, \"index\": 0}, \"process_id\": \"array_element\"}, \"divide1\": {\"arguments\": {\"x\": {\"from_node\": \"subtract1\"}, \"y\": {\"from_node\": \"add1\"}}, \"process_id\": \"divide\"}, \"divide2\": {\"arguments\": {\"x\": {\"from_node\": \"subtract2\"}, \"y\": {\"from_node\": \"add2\"}}, \"process_id\": \"divide\"}, \"divide3\": {\"arguments\": {\"x\": {\"from_node\": \"subtract3\"}, \"y\": {\"from_node\": \"add3\"}}, \"process_id\": \"divide\"}, \"divide4\": {\"arguments\": {\"x\": {\"from_node\": \"subtract5\"}, \"y\": {\"from_node\": \"add4\"}}, \"process_id\": \"divide\"}, \"divide5\": {\"arguments\": {\"x\": {\"from_node\": \"multiply1\"}, \"y\": {\"from_node\": \"add6\"}}, \"process_id\": \"divide\"}, \"multiply1\": {\"arguments\": {\"x\": 2.5, \"y\": {\"from_node\": \"subtract7\"}}, \"process_id\": \"multiply\"}, \"multiply2\": {\"arguments\": {\"x\": 6.0, \"y\": {\"from_node\": \"arrayelement3\"}}, \"process_id\": \"multiply\"}, \"multiply3\": {\"arguments\": {\"x\": 7.5, \"y\": {\"from_node\": \"arrayelement7\"}}, \"process_id\": \"multiply\"}, \"subtract1\": {\"arguments\": {\"x\": {\"from_node\": \"arrayelement2\"}, \"y\": {\"from_node\": \"arrayelement3\"}}, \"process_id\": \"subtract\"}, \"subtract2\": {\"arguments\": {\"x\": {\"from_node\": \"arrayelement2\"}, \"y\": {\"from_node\": \"arrayelement4\"}}, \"process_id\": \"subtract\"}, \"subtract3\": {\"arguments\": {\"x\": {\"from_node\": \"arrayelement2\"}, \"y\": {\"from_node\": \"arrayelement5\"}}, \"process_id\": \"subtract\"}, \"subtract4\": {\"arguments\": {\"x\": {\"from_node\": \"arrayelement4\"}, \"y\": {\"from_node\": \"arrayelement6\"}}, \"process_id\": \"subtract\"}, \"subtract5\": {\"arguments\": {\"x\": {\"from_node\": \"arrayelement2\"}, \"y\": {\"from_node\": \"subtract4\"}}, \"process_id\": \"subtract\"}, \"subtract6\": {\"arguments\": {\"x\": {\"from_node\": \"arrayelement4\"}, \"y\": {\"from_node\": \"arrayelement6\"}}, \"process_id\": \"subtract\"}, \"subtract7\": {\"arguments\": {\"x\": {\"from_node\": \"arrayelement2\"}, \"y\": {\"from_node\": \"arrayelement3\"}}, \"process_id\": \"subtract\"}, \"subtract8\": {\"arguments\": {\"x\": {\"from_node\": \"add5\"}, \"y\": {\"from_node\": \"multiply3\"}}, \"process_id\": \"subtract\"}}}}, \"process_id\": \"apply_dimension\"}, \"filterbands1\": {\"arguments\": {\"bands\": [\"NDVI\", \"NDMI\", \"GNDVI\", \"NMDI\", \"EVI\"], \"data\": {\"from_node\": \"renamelabels1\"}}, \"process_id\": \"filter_bands\"}, \"loadcollection1\": {\"arguments\": {\"bands\": [\"B02\", \"B03\", \"B04\", \"B05\", \"B06\", \"B08\", \"B11\", \"B12\", \"SCL\"], \"id\": \"SENTINEL2_L2A\", \"properties\": {\"eo:cloud_cover\": {\"process_graph\": {\"lte1\": {\"arguments\": {\"x\": {\"from_parameter\": \"value\"}, \"y\": 30}, \"process_id\": \"lte\", \"result\": true}}}}, \"spatial_extent\": {\"east\": 34.447, \"north\": 0.769, \"south\": 0.758, \"west\": 34.382}, \"temporal_extent\": [\"2021-04-01\", \"2021-04-30\"]}, \"process_id\": \"load_collection\"}, \"loadcollection2\": {\"arguments\": {\"bands\": [\"MAP\"], \"id\": \"ESA_WORLDCOVER_10M_2021_V2\", \"spatial_extent\": {\"east\": 34.447, \"north\": 0.769, \"south\": 0.658, \"west\": 34.282}, \"temporal_extent\": [\"2021-01-01\", \"2022-01-01\"]}, \"process_id\": \"load_collection\"}, \"mask1\": {\"arguments\": {\"data\": {\"from_node\": \"loadcollection1\"}, \"mask\": {\"from_node\": \"resamplecubespatial1\"}}, \"process_id\": \"mask\"}, \"mask2\": {\"arguments\": {\"data\": {\"from_node\": \"filterbands1\"}, \"mask\": {\"from_node\": \"reducedimension3\"}}, \"process_id\": \"mask\"}, \"reducedimension1\": {\"arguments\": {\"data\": {\"from_node\": \"loadcollection1\"}, \"dimension\": \"bands\", \"reducer\": {\"process_graph\": {\"arrayelement1\": {\"arguments\": {\"data\": {\"from_parameter\": \"data\"}, \"index\": 8}, \"process_id\": \"array_element\"}, \"eq1\": {\"arguments\": {\"x\": {\"from_node\": \"arrayelement1\"}, \"y\": 3}, \"process_id\": \"eq\"}, \"eq2\": {\"arguments\": {\"x\": {\"from_node\": \"arrayelement1\"}, \"y\": 8}, \"process_id\": \"eq\"}, \"eq3\": {\"arguments\": {\"x\": {\"from_node\": \"arrayelement1\"}, \"y\": 9}, \"process_id\": \"eq\"}, \"or1\": {\"arguments\": {\"x\": {\"from_node\": \"eq1\"}, \"y\": {\"from_node\": \"eq2\"}}, \"process_id\": \"or\"}, \"or2\": {\"arguments\": {\"x\": {\"from_node\": \"or1\"}, \"y\": {\"from_node\": \"eq3\"}}, \"process_id\": \"or\", \"result\": true}}}}, \"process_id\": \"reduce_dimension\"}, \"reducedimension2\": {\"arguments\": {\"data\": {\"from_node\": \"loadcollection2\"}, \"dimension\": \"bands\", \"reducer\": {\"process_graph\": {\"arrayelement8\": {\"arguments\": {\"data\": {\"from_parameter\": \"data\"}, \"index\": 0}, \"process_id\": \"array_element\"}, \"neq1\": {\"arguments\": {\"x\": {\"from_node\": \"arrayelement8\"}, \"y\": 40}, \"process_id\": \"neq\", \"result\": true}}}}, \"process_id\": \"reduce_dimension\"}, \"reducedimension3\": {\"arguments\": {\"data\": {\"from_node\": \"reducedimension2\"}, \"dimension\": \"t\", \"reducer\": {\"process_graph\": {\"max1\": {\"arguments\": {\"data\": {\"from_parameter\": \"data\"}}, \"process_id\": \"max\", \"result\": true}}}}, \"process_id\": \"reduce_dimension\"}, \"renamelabels1\": {\"arguments\": {\"data\": {\"from_node\": \"applydimension1\"}, \"dimension\": \"bands\", \"target\": [\"NDVI\", \"NDMI\", \"GNDVI\", \"NMDI\", \"EVI\"]}, \"process_id\": \"rename_labels\"}, \"resamplecubespatial1\": {\"arguments\": {\"data\": {\"from_node\": \"reducedimension1\"}, \"method\": \"near\", \"target\": {\"from_node\": \"loadcollection1\"}}, \"process_id\": \"resample_cube_spatial\"}, \"saveresult1\": {\"arguments\": {\"data\": {\"from_node\": \"mask2\"}, \"format\": \"GTiff\", \"options\": {}}, \"process_id\": \"save_result\", \"result\": true}}, \"format\": \"openeo\"}, \"processing:facility\": \"openEO Geotrellis backend\", \"processing:software\": {\"Geotrellis backend\": \"0.33.1a1\"}, \"roles\": [\"processor\"]}], \"stac_extensions\": [\"https://stac-extensions.github.io/eo/v1.1.0/schema.json\", \"https://stac-extensions.github.io/file/v2.1.0/schema.json\", \"https://stac-extensions.github.io/processing/v1.1.0/schema.json\", \"https://stac-extensions.github.io/projection/v1.1.0/schema.json\"], \"stac_version\": \"1.0.0\", \"summaries\": {}, \"type\": \"Collection\"}}</script>\n",
       "    </openeo-collection>\n",
       "    "
      ],
      "text/plain": [
       "<JobResults for job 'j-240522232c98436ea2f13f9a5c3ba2a0'>"
      ]
     },
     "execution_count": 9,
     "metadata": {},
     "output_type": "execute_result"
    }
   ],
   "source": [
    "job.start_and_wait()\n",
    "job.get_results()"
   ]
  },
  {
   "cell_type": "markdown",
   "id": "05c1e712-d5b0-4c4e-92fe-cbb93081474c",
   "metadata": {},
   "source": [
    "![image.png](attachment:0bc313a6-f49a-4875-b834-8447ba5be952.png)"
   ]
  },
  {
   "cell_type": "code",
   "execution_count": null,
   "id": "b9f6516d-cb21-42d3-b218-af528ce406f3",
   "metadata": {},
   "outputs": [],
   "source": []
  }
 ],
 "metadata": {
  "kernelspec": {
   "display_name": "OpenEO",
   "language": "python",
   "name": "openeo"
  },
  "language_info": {
   "codemirror_mode": {
    "name": "ipython",
    "version": 3
   },
   "file_extension": ".py",
   "mimetype": "text/x-python",
   "name": "python",
   "nbconvert_exporter": "python",
   "pygments_lexer": "ipython3",
   "version": "3.11.4"
  }
 },
 "nbformat": 4,
 "nbformat_minor": 5
}
