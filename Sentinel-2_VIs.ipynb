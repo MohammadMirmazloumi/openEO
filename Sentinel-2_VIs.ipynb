{
 "cells": [
  {
   "cell_type": "markdown",
   "id": "f94320d8-c5c6-45a0-a8e4-4903a6918774",
   "metadata": {},
   "source": [
    "# INTEGRATED USE OF MULTISOURCE REMOTE SENSING DATA FOR NATIONAL SCALE AGRICULTURAL  DROUGHT MONITORING IN KENYA\n",
    "# ADM-Kenya Workshop, Kenya, May 2024\n",
    "# Sentinel-2 Spectral/Vegetation Indexes Export - High-Resolution Evaportranspiration Estimation"
   ]
  },
  {
   "cell_type": "markdown",
   "id": "dcb48323-c1c2-44e5-81e7-afc80b645fb4",
   "metadata": {},
   "source": [
    "Here, we want to load Sentinel-2 data collection. Cloud masking, generating VIs, and getting data over cropland pixels are like steps of crop condition mapping. Note that here we want to have daily products."
   ]
  },
  {
   "cell_type": "markdown",
   "id": "4a711279-aed2-4b71-be99-e9d7d6d73ee6",
   "metadata": {},
   "source": [
    "# Tools and Libraries\n",
    "\n",
    "We will use the following libraries:\n",
    "\n",
    "    openEO: A library to initiate using of openEO facility, including various dependencies for processing data collections.\n",
    "    NumPy: A fundamental package for scientific computing in Python."
   ]
  },
  {
   "cell_type": "code",
   "execution_count": 10,
   "id": "d0852ee0-af95-4480-95ff-1b12f7907c9d",
   "metadata": {},
   "outputs": [],
   "source": [
    "import openeo\n",
    "import openeo.extra.spectral_indices as opc \n",
    "import numpy as np\n",
    "import openeo.processes as eop"
   ]
  },
  {
   "cell_type": "code",
   "execution_count": 11,
   "id": "40075b3a-e6f4-47cc-9922-f9d1a146b1d7",
   "metadata": {},
   "outputs": [
    {
     "name": "stdout",
     "output_type": "stream",
     "text": [
      "Authenticated using refresh token.\n"
     ]
    }
   ],
   "source": [
    "connection = openeo.connect(\"openeo.dataspace.copernicus.eu\").authenticate_oidc()"
   ]
  },
  {
   "cell_type": "markdown",
   "id": "110c5b51-3693-4b09-87c1-5339f745f434",
   "metadata": {},
   "source": [
    "<img src=\"S2_Fig_1.PNG\">"
   ]
  },
  {
   "cell_type": "code",
   "execution_count": 3,
   "id": "cd9c6714-e0d1-46bc-966f-bbb0dca48d29",
   "metadata": {},
   "outputs": [],
   "source": [
    "S2_2021_cloudfree = connection.load_collection(\n",
    "  \"SENTINEL2_L2A\",\n",
    "  spatial_extent={\"west\": 34.382, \"south\": 0.758, \"east\": 34.447, \"north\": 0.769},\n",
    "  temporal_extent=[\"2021-04-01\", \"2021-04-30\"],\n",
    "  bands=[\"B02\",\"B03\",\"B04\",\"B05\",\"B06\",\"B08\",\"B11\",\"B12\",\"SCL\"],\n",
    "  max_cloud_cover=30\n",
    ")"
   ]
  },
  {
   "cell_type": "code",
   "execution_count": 4,
   "id": "7dbe0bff-3a3f-4426-b7fa-7a4de869e43a",
   "metadata": {},
   "outputs": [],
   "source": [
    "scl_band_2021 = S2_2021_cloudfree.band(\"SCL\")\n",
    "cloud_mask_2021 = (scl_band_2021 == 3) | (scl_band_2021 == 8) | (scl_band_2021 == 9)"
   ]
  },
  {
   "cell_type": "code",
   "execution_count": 5,
   "id": "fa8a9549-64e8-4d88-8c91-cc2d046a30d1",
   "metadata": {},
   "outputs": [],
   "source": [
    "cloud_mask_2021 = cloud_mask_2021.resample_cube_spatial(S2_2021_cloudfree)\n",
    "cube_masked_2021 = S2_2021_cloudfree.mask(cloud_mask_2021)"
   ]
  },
  {
   "cell_type": "code",
   "execution_count": 6,
   "id": "7078b9ff-cc20-4cb7-912d-c157ed049637",
   "metadata": {},
   "outputs": [],
   "source": [
    "# Spectral indexes:\n",
    "idx_list = [\"NDVI\",\"NDMI\",\"GNDVI\",\"NMDI\",\"EVI\"]\n",
    "S2_VIs_2021 = opc.compute_indices(cube_masked_2021, idx_list).filter_bands(idx_list)"
   ]
  },
  {
   "cell_type": "code",
   "execution_count": 7,
   "id": "42d04774-6ea7-4424-9ffc-35d1292b9652",
   "metadata": {},
   "outputs": [],
   "source": [
    "# Croplands masking:\n",
    "cropland_mask = connection.load_collection(\"ESA_WORLDCOVER_10M_2021_V2\", bands=[\"MAP\"],\n",
    "                                temporal_extent = [\"2021-01-01\", \"2022-01-01\"],\n",
    "                                spatial_extent={\"west\": 34.282, \"south\": 0.658, \"east\": 34.447, \"north\": 0.769}\n",
    "                    )\n",
    "\n",
    "cropland_mask = cropland_mask.band(\"MAP\") != 40\n",
    "S2_2021_input_crop = S2_VIs_2021.mask(cropland_mask.max_time())"
   ]
  },
  {
   "cell_type": "code",
   "execution_count": 8,
   "id": "80ab5578-7761-4054-96ed-8cd104861e88",
   "metadata": {},
   "outputs": [],
   "source": [
    "job = S2_2021_input_crop.create_job(out_format=\"GTiff\")"
   ]
  },
  {
   "cell_type": "code",
   "execution_count": null,
   "id": "b28798f3",
   "metadata": {},
   "outputs": [],
   "source": [
    "job.start_and_wait()\n",
    "job.get_results()"
   ]
  },
  {
   "cell_type": "markdown",
   "id": "05c1e712-d5b0-4c4e-92fe-cbb93081474c",
   "metadata": {},
   "source": [
    "![image.png](attachment:0bc313a6-f49a-4875-b834-8447ba5be952.png)"
   ]
  },
  {
   "cell_type": "code",
   "execution_count": null,
   "id": "b9f6516d-cb21-42d3-b218-af528ce406f3",
   "metadata": {},
   "outputs": [],
   "source": []
  }
 ],
 "metadata": {
  "kernelspec": {
   "display_name": "Python 3 (ipykernel)",
   "language": "python",
   "name": "python3"
  },
  "language_info": {
   "codemirror_mode": {
    "name": "ipython",
    "version": 3
   },
   "file_extension": ".py",
   "mimetype": "text/x-python",
   "name": "python",
   "nbconvert_exporter": "python",
   "pygments_lexer": "ipython3",
   "version": "3.9.0"
  }
 },
 "nbformat": 4,
 "nbformat_minor": 5
}
